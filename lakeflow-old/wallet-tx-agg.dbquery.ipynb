{
 "cells": [
  {
   "cell_type": "code",
   "execution_count": 0,
   "metadata": {
    "application/vnd.databricks.v1+cell": {
     "cellMetadata": {},
     "inputWidgets": {},
     "nuid": "cd521265-142e-46fe-b3ae-168097b8be7b",
     "showTitle": false,
     "tableResultSettingsMap": {},
     "title": ""
    }
   },
   "outputs": [],
   "source": [
    "select year(tx_end_timestamp) as year, instrument_type, instrument,\n",
    "sum(amount) as amount, sum(discount_points) as discount_points, sum(net_amount) as net_amount\n",
    "from dbdemos_vishesh.contest_mock.wallet_tx\n",
    "group by all\n",
    "order by all;"
   ]
  }
 ],
 "metadata": {
  "application/vnd.databricks.v1+notebook": {
   "computePreferences": null,
   "dashboards": [],
   "environmentMetadata": null,
   "inputWidgetPreferences": null,
   "language": "sql",
   "notebookMetadata": {
    "pythonIndentUnit": 2,
    "sqlQueryOptions": {
     "applyAutoLimit": true,
     "catalog": "users",
     "schema": "default"
    }
   },
   "notebookName": "wallet-tx-agg.dbquery.ipynb",
   "widgets": {}
  },
  "language_info": {
   "name": "sql"
  }
 },
 "nbformat": 4,
 "nbformat_minor": 0
}
