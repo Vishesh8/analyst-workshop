{
 "cells": [
  {
   "cell_type": "code",
   "execution_count": 0,
   "metadata": {
    "application/vnd.databricks.v1+cell": {
     "cellMetadata": {
      "byteLimit": 10485760,
      "rowLimit": 1000
     },
     "inputWidgets": {},
     "nuid": "752c61e0-48ee-4f3d-a9d1-6c9d65cd39a7",
     "showTitle": false,
     "tableResultSettingsMap": {},
     "title": ""
    }
   },
   "outputs": [],
   "source": [
    "SELECT\n",
    "  -- Contest Information\n",
    "  c.contest_id,\n",
    "  c.contest_sport,\n",
    "  c.contest_type,\n",
    "  c.contest_create_ts,\n",
    "  c.entry_amount,\n",
    "  c.prize_pool,\n",
    "  -- Contest Participation Information\n",
    "  ct.user_id,\n",
    "  ct.team_id,\n",
    "  ct.fee_paid,\n",
    "  ct.final_position,\n",
    "  -- User Demographics\n",
    "  u.created_timestamp as user_created_timestamp,\n",
    "  u.origin_state,\n",
    "  u.gender,\n",
    "  -- Aggregated Wallet Information (per user)\n",
    "  wt.total_wallet_amount,\n",
    "  wt.total_wallet_transactions,\n",
    "  wt.avg_transaction_amount,\n",
    "  wt.total_net_amount,\n",
    "  wt.total_discount_points,\n",
    "  wt.preferred_payment_method,\n",
    "  wt.payment_method_diversity\n",
    "FROM\n",
    "  contests c\n",
    "  LEFT JOIN contests_tx ct ON c.contest_id = ct.contest_id\n",
    "  LEFT JOIN users u ON ct.user_id = u.user_id\n",
    "  LEFT JOIN (\n",
    "    -- Pre-aggregate wallet transactions per user\n",
    "    SELECT\n",
    "      user_id,\n",
    "      SUM(amount) as total_wallet_amount,\n",
    "      COUNT(*) as total_wallet_transactions,\n",
    "      AVG(amount) as avg_transaction_amount,\n",
    "      SUM(net_amount) as total_net_amount,\n",
    "      SUM(discount_points) as total_discount_points,\n",
    "      MODE() WITHIN GROUP (\n",
    "        ORDER BY\n",
    "          instrument_type\n",
    "      ) as preferred_payment_method,\n",
    "      COUNT(DISTINCT instrument_type) as payment_method_diversity\n",
    "    FROM\n",
    "      wallet_tx\n",
    "    GROUP BY\n",
    "      user_id\n",
    "  ) wt ON u.user_id = wt.user_id\n",
    "LIMIT 10;"
   ]
  }
 ],
 "metadata": {
  "application/vnd.databricks.v1+notebook": {
   "computePreferences": null,
   "dashboards": [],
   "environmentMetadata": null,
   "inputWidgetPreferences": null,
   "language": "sql",
   "notebookMetadata": {
    "pythonIndentUnit": 2,
    "sqlQueryOptions": {
     "applyAutoLimit": true,
     "catalog": "dbdemos_vishesh",
     "schema": "contest_mock"
    }
   },
   "notebookName": "optimize-code.dbquery.ipynb",
   "widgets": {}
  },
  "language_info": {
   "name": "sql"
  }
 },
 "nbformat": 4,
 "nbformat_minor": 0
}
