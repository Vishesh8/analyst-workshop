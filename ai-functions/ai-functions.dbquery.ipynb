{
 "cells": [
  {
   "cell_type": "code",
   "execution_count": 0,
   "metadata": {
    "application/vnd.databricks.v1+cell": {
     "cellMetadata": {
      "byteLimit": 10485760,
      "rowLimit": 1000
     },
     "inputWidgets": {},
     "nuid": "4e24a449-c961-4cc0-b8b4-ce91c2591ff9",
     "showTitle": false,
     "tableResultSettingsMap": {
      "1": {
       "dataGridStateBlob": "{\"version\":1,\"tableState\":{\"columnPinning\":{\"left\":[\"#row_number#\"],\"right\":[]},\"columnSizing\":{\"sport_name\":293},\"columnVisibility\":{}},\"settings\":{\"columns\":{}},\"syncTimestamp\":1754378847337}",
       "filterBlob": null,
       "queryPlanFiltersBlob": null,
       "tableResultIndex": 1
      }
     },
     "title": ""
    }
   },
   "outputs": [],
   "source": [
    "-- ai_analyze_sentiment\n",
    "select tweet_content, ai_analyze_sentiment(tweet_content) as sentiment\n",
    "from contest_tweets;\n",
    "\n",
    "-- ai_extract\n",
    "select tweet_content, ai_extract(tweet_content, array('sport')) as sport_name\n",
    "from contest_tweets;\n",
    "\n",
    "-- ai_translate\n",
    "select tweet_content, ai_translate(tweet_content, 'hi') as hindi_review\n",
    "from contest_tweets;\n",
    "\n",
    "-- ai_query\n",
    "select tweet_content,\n",
    "ai_query(\"databricks-meta-llama-3-1-8b-instruct\",\n",
    "\"Infer what the contest is about from the following tweets and generate instagram post caption for this contest: \" || tweet_content || \". Just respond with the caption. DO NOT any extra text\") as generated_caption\n",
    "from contest_tweets;"
   ]
  }
 ],
 "metadata": {
  "application/vnd.databricks.v1+notebook": {
   "computePreferences": null,
   "dashboards": [],
   "environmentMetadata": null,
   "inputWidgetPreferences": null,
   "language": "sql",
   "notebookMetadata": {
    "pythonIndentUnit": 2,
    "sqlQueryOptions": {
     "applyAutoLimit": true,
     "catalog": "dbdemos_vishesh",
     "schema": "contest_mock"
    }
   },
   "notebookName": "ai-functions.dbquery.ipynb",
   "widgets": {}
  },
  "language_info": {
   "name": "sql"
  }
 },
 "nbformat": 4,
 "nbformat_minor": 0
}
