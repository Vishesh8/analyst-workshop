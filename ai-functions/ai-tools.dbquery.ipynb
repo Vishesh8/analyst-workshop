{
 "cells": [
  {
   "cell_type": "code",
   "execution_count": 0,
   "metadata": {
    "application/vnd.databricks.v1+cell": {
     "cellMetadata": {
      "byteLimit": 10485760,
      "rowLimit": 1000
     },
     "inputWidgets": {},
     "nuid": "90027b63-e3d9-4a68-ac71-cbc7377c55ef",
     "showTitle": false,
     "tableResultSettingsMap": {},
     "title": ""
    }
   },
   "outputs": [],
   "source": [
    "CREATE OR REPLACE FUNCTION dbdemos_vishesh.contest_mock.get_contest_analytics\n",
    "(\n",
    "    sport_name STRING COMMENT 'Name of the sport (e.g., cricket, football, kabaddi)',\n",
    "    contest_year INT COMMENT 'Year to filter contests (extracted from contest_create_ts)'\n",
    ") \n",
    "RETURNS STRUCT<\n",
    "    most_popular_contest_type: STRING,\n",
    "    average_prize_pool: DOUBLE,\n",
    "    total_contests: BIGINT\n",
    ">\n",
    "COMMENT 'Returns the most popular contest type and average prize pool for a given sport and year'\n",
    "LANGUAGE SQL\n",
    "RETURN \n",
    "    SELECT STRUCT(\n",
    "        contest_analytics.most_popular_type,\n",
    "        contest_analytics.avg_prize_pool,\n",
    "        contest_analytics.contest_count\n",
    "    )\n",
    "    FROM (\n",
    "        SELECT \n",
    "            FIRST(contest_type) as most_popular_type,\n",
    "            AVG(prize_pool) as avg_prize_pool,\n",
    "            COUNT(*) as contest_count\n",
    "        FROM (\n",
    "            SELECT \n",
    "                contest_type,\n",
    "                prize_pool,\n",
    "                ROW_NUMBER() OVER (ORDER BY type_count DESC, contest_type) as rn\n",
    "            FROM (\n",
    "                SELECT \n",
    "                    contest_type,\n",
    "                    prize_pool,\n",
    "                    COUNT(*) OVER (PARTITION BY contest_type) as type_count\n",
    "                FROM dbdemos_vishesh.contest_mock.contests\n",
    "                WHERE LOWER(contest_sport) = LOWER(sport_name)\n",
    "                  AND YEAR(contest_create_ts) = contest_year\n",
    "            ) type_counts\n",
    "        ) ranked_types\n",
    "        WHERE rn = 1\n",
    "        GROUP BY contest_type\n",
    "        \n",
    "        UNION ALL\n",
    "        \n",
    "        SELECT \n",
    "            NULL as most_popular_type,\n",
    "            AVG(prize_pool) as avg_prize_pool, \n",
    "            COUNT(*) as contest_count\n",
    "        FROM dbdemos_vishesh.contest_mock.contests\n",
    "        WHERE LOWER(contest_sport) = LOWER(sport_name)\n",
    "          AND YEAR(contest_create_ts) = contest_year\n",
    "    ) contest_analytics\n",
    "    WHERE most_popular_type IS NOT NULL\n",
    "    LIMIT 1;\n"
   ]
  }
 ],
 "metadata": {
  "application/vnd.databricks.v1+notebook": {
   "computePreferences": null,
   "dashboards": [],
   "environmentMetadata": null,
   "inputWidgetPreferences": null,
   "language": "sql",
   "notebookMetadata": {
    "pythonIndentUnit": 2,
    "sqlQueryOptions": {
     "applyAutoLimit": true,
     "catalog": "main",
     "schema": "default"
    }
   },
   "notebookName": "ai-tools.dbquery.ipynb",
   "widgets": {}
  },
  "language_info": {
   "name": "sql"
  }
 },
 "nbformat": 4,
 "nbformat_minor": 0
}
