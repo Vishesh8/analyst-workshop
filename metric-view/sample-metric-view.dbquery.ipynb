{
 "cells": [
  {
   "cell_type": "code",
   "execution_count": 0,
   "metadata": {
    "application/vnd.databricks.v1+cell": {
     "cellMetadata": {},
     "inputWidgets": {},
     "nuid": "1c9d3a18-4ee3-41aa-9418-996257de54ae",
     "showTitle": false,
     "tableResultSettingsMap": {},
     "title": ""
    }
   },
   "outputs": [],
   "source": [
    "CREATE OR REPLACE VIEW dbdemos_vishesh.sports.ipl_match_data_metric_view\n",
    "(`Match Date` COMMENT 'date when this match was played',\n",
    "`Total Runs Scored` COMMENT 'total runs scored in the match')\n",
    "WITH METRICS\n",
    "LANGUAGE YAML\n",
    "COMMENT 'A Metric View for IPL Match metrics.'\n",
    "AS $$\n",
    "version: 0.1\n",
    "\n",
    "source: dbdemos_vishesh.sports.ipl_match_data\n",
    "\n",
    "dimensions:\n",
    "  - name: Match Date\n",
    "    expr: year(start_date)\n",
    "\n",
    "measures:\n",
    "  - name: Total Runs Scored\n",
    "    expr: SUM(runs_off_bat)\n",
    "$$;\n",
    "\n",
    "\n",
    "select `Match Date`, measure(`Total Runs Scored`) from dbdemos_vishesh.sports.ipl_match_data_metric_view\n",
    "group by 1"
   ]
  }
 ],
 "metadata": {
  "application/vnd.databricks.v1+notebook": {
   "computePreferences": null,
   "dashboards": [],
   "environmentMetadata": null,
   "inputWidgetPreferences": null,
   "language": "sql",
   "notebookMetadata": {
    "sqlQueryOptions": {
     "applyAutoLimit": true,
     "catalog": "main",
     "schema": "default"
    }
   },
   "notebookName": "sample-metric-view.dbquery.ipynb",
   "widgets": {}
  },
  "language_info": {
   "name": "sql"
  }
 },
 "nbformat": 4,
 "nbformat_minor": 0
}
