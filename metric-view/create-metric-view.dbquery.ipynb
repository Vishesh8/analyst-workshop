{
 "cells": [
  {
   "cell_type": "code",
   "execution_count": 0,
   "metadata": {
    "application/vnd.databricks.v1+cell": {
     "cellMetadata": {
      "byteLimit": 10485760,
      "rowLimit": 1000
     },
     "inputWidgets": {},
     "nuid": "d9e82ffd-cc64-4f07-86f4-50de272653b4",
     "showTitle": false,
     "tableResultSettingsMap": {},
     "title": ""
    }
   },
   "outputs": [],
   "source": [
    "CREATE OR REPLACE VIEW dbdemos_vishesh.sports.ipl_match_data_metric_view\n",
    "(`Match Date` COMMENT 'date when this match was played',\n",
    "`Total Runs Scored` COMMENT 'total runs scored in the match')\n",
    "WITH METRICS\n",
    "LANGUAGE YAML\n",
    "COMMENT 'A Metric View for IPL Match metrics.'\n",
    "AS $$\n",
    "version: 0.1\n",
    "\n",
    "source: dbdemos_vishesh.sports.ipl_match_data\n",
    "\n",
    "dimensions:\n",
    "  - name: Match Date\n",
    "    expr: year(start_date)\n",
    "\n",
    "measures:\n",
    "  - name: Total Runs Scored\n",
    "    expr: SUM(runs_off_bat)\n",
    "$$;"
   ]
  }
 ],
 "metadata": {
  "application/vnd.databricks.v1+notebook": {
   "computePreferences": null,
   "dashboards": [],
   "environmentMetadata": null,
   "inputWidgetPreferences": null,
   "language": "sql",
   "notebookMetadata": {
    "pythonIndentUnit": 2,
    "sqlQueryOptions": {
     "applyAutoLimit": true,
     "catalog": "main",
     "schema": "_data_classification"
    }
   },
   "notebookName": "create-metric-view.dbquery.ipynb",
   "widgets": {}
  },
  "language_info": {
   "name": "sql"
  }
 },
 "nbformat": 4,
 "nbformat_minor": 0
}
