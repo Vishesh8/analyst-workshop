{
 "cells": [
  {
   "cell_type": "code",
   "execution_count": 0,
   "metadata": {
    "application/vnd.databricks.v1+cell": {
     "cellMetadata": {
      "byteLimit": 10485760,
      "rowLimit": 1000
     },
     "inputWidgets": {},
     "nuid": "ea615254-a7ac-451b-8f27-7f50796248b4",
     "showTitle": false,
     "tableResultSettingsMap": {},
     "title": ""
    }
   },
   "outputs": [],
   "source": [
    "USE CATALOG dbdemos_vishesh;\n",
    "USE SCHEMA contest_mock;\n",
    "\n",
    "--PK CONSTRAINTS\n",
    "ALTER TABLE contests \n",
    "ALTER COLUMN contest_id SET NOT NULL;\n",
    "ALTER TABLE contests \n",
    "ADD CONSTRAINT contests_pk PRIMARY KEY (contest_id);\n",
    "\n",
    "ALTER TABLE users \n",
    "ALTER COLUMN user_id SET NOT NULL;\n",
    "ALTER TABLE users \n",
    "ADD CONSTRAINT users_pk PRIMARY KEY (user_id);\n",
    "\n",
    "ALTER TABLE wallet_tx \n",
    "ALTER COLUMN uuid SET NOT NULL;\n",
    "ALTER TABLE wallet_tx \n",
    "ADD CONSTRAINT wallet_txn_pk PRIMARY KEY (uuid);\n",
    "\n",
    "ALTER TABLE contests_tx \n",
    "ALTER COLUMN contest_id SET NOT NULL;\n",
    "ALTER TABLE contests_tx \n",
    "ALTER COLUMN user_id SET NOT NULL;\n",
    "ALTER TABLE contests_tx \n",
    "ALTER COLUMN team_id SET NOT NULL;\n",
    "ALTER TABLE contests_tx \n",
    "ADD CONSTRAINT contests_tx_pk PRIMARY KEY (contest_id, user_id, team_id);\n",
    "\n",
    "\n",
    "--FK CONSTRAINTS\n",
    "ALTER TABLE wallet_tx \n",
    "ADD CONSTRAINT wallet_tx_fk_userid \n",
    "FOREIGN KEY (user_id) \n",
    "REFERENCES users (user_id);\n",
    "\n",
    "ALTER TABLE contests_tx\n",
    "ADD CONSTRAINT contests_tx_fk_userid \n",
    "FOREIGN KEY (user_id) \n",
    "REFERENCES users (user_id);\n",
    "\n",
    "ALTER TABLE contests_tx\n",
    "ADD CONSTRAINT contests_tx_fk_contestid\n",
    "FOREIGN KEY (contest_id) \n",
    "REFERENCES contests (contest_id);\n",
    "\n",
    "\n",
    "--IF YOU FACE DATA TYPE ISSUES WHILE ADDING CONSTRAINTS, ENABLE TYPE WIDENING AND MAKE CONVERT DATA TYPE TO A HIGHER PRECISION ONE. EXAMPLE BELOW FOR INT TO BIGINT CONVERSION\n",
    "ALTER TABLE users\n",
    "SET TBLPROPERTIES ('delta.enableTypeWidening' = 'true');\n",
    "\n",
    "ALTER TABLE users\n",
    "ALTER COLUMN user_id TYPE BIGINT;"
   ]
  }
 ],
 "metadata": {
  "application/vnd.databricks.v1+notebook": {
   "computePreferences": null,
   "dashboards": [],
   "environmentMetadata": null,
   "inputWidgetPreferences": null,
   "language": "sql",
   "notebookMetadata": {
    "sqlQueryOptions": {
     "applyAutoLimit": true,
     "catalog": "main",
     "schema": "_data_classification"
    }
   },
   "notebookName": "add-relationships.dbquery.ipynb",
   "widgets": {}
  },
  "language_info": {
   "name": "sql"
  }
 },
 "nbformat": 4,
 "nbformat_minor": 0
}
